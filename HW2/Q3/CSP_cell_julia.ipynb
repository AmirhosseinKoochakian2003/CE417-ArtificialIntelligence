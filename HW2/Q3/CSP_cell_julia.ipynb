{
  "nbformat": 4,
  "nbformat_minor": 0,
  "metadata": {
    "colab": {
      "provenance": []
    },
    "kernelspec": {
      "display_name": "Julia",
      "language": "julia",
      "name": "julia"
    },
    "language_info": {
      "file_extension": ".jl",
      "mimetype": "application/julia",
      "name": "julia"
    }
  },
  "cells": [
    {
      "cell_type": "markdown",
      "source": [
        "<font face=\"XB Zar\" size=5><div dir=rtl align=center>\n",
        "<font face=\"IranNastaliq\" size=5>\n",
        "به نام خدا\n",
        "</font>\n",
        "<br>\n",
        "<font size=3>\n",
        "دانشگاه صنعتی شریف - دانشکده مهندسی کامپیوتر\n",
        "</font>\n",
        "<br>\n",
        "<font color=blue size=5>\n",
        "تمرین امتیازی بخش بهینه سازی\n",
        "</font><br>\n",
        "<font color=blue size=5>\n",
        "نوت بوک زبان جولیا\n",
        "</font>\n",
        "# <img src=\"https://github.com/JuliaLang/julia-logo-graphics/raw/master/images/julia-logo-color.png\" height=\"100\" />"
      ],
      "metadata": {
        "id": "k1NqOXzgIlk_"
      }
    },
    {
      "cell_type": "markdown",
      "metadata": {
        "id": "tQ1r1bbb0yBv"
      },
      "source": [
        "\n",
        "\n",
        "<font face=\"XB Zar\" size=4><div dir=rtl id=\"1\">\n",
        "<font color=\"red\" size=5>**نصب جولیا و پکیج های لازم**</font>\n"
      ]
    },
    {
      "cell_type": "code",
      "metadata": {
        "id": "GIeFXS0F0zww",
        "colab": {
          "base_uri": "https://localhost:8080/"
        },
        "outputId": "b5186935-9f95-4b78-d5a9-7ce9dcb1c56a",
        "cellView": "form"
      },
      "source": [
        "# @title\n",
        "%%shell\n",
        "set -e\n",
        "\n",
        "#---------------------------------------------------#\n",
        "JULIA_VERSION=\"1.8.2\" # any version ≥ 0.7.0\n",
        "JULIA_PACKAGES=\"IJulia BenchmarkTools\"\n",
        "JULIA_PACKAGES_IF_GPU=\"CUDA\" # or CuArrays for older Julia versions\n",
        "JULIA_NUM_THREADS=2\n",
        "#---------------------------------------------------#\n",
        "\n",
        "if [ -z `which julia` ]; then\n",
        "  # Install Julia\n",
        "  JULIA_VER=`cut -d '.' -f -2 <<< \"$JULIA_VERSION\"`\n",
        "  echo \"Installing Julia $JULIA_VERSION on the current Colab Runtime...\"\n",
        "  BASE_URL=\"https://julialang-s3.julialang.org/bin/linux/x64\"\n",
        "  URL=\"$BASE_URL/$JULIA_VER/julia-$JULIA_VERSION-linux-x86_64.tar.gz\"\n",
        "  wget -nv $URL -O /tmp/julia.tar.gz # -nv means \"not verbose\"\n",
        "  tar -x -f /tmp/julia.tar.gz -C /usr/local --strip-components 1\n",
        "  rm /tmp/julia.tar.gz\n",
        "\n",
        "  # Install Packages\n",
        "  nvidia-smi -L &> /dev/null && export GPU=1 || export GPU=0\n",
        "  if [ $GPU -eq 1 ]; then\n",
        "    JULIA_PACKAGES=\"$JULIA_PACKAGES $JULIA_PACKAGES_IF_GPU\"\n",
        "  fi\n",
        "  for PKG in `echo $JULIA_PACKAGES`; do\n",
        "    echo \"Installing Julia package $PKG...\"\n",
        "    julia -e 'using Pkg; pkg\"add '$PKG'; precompile;\"' &> /dev/null\n",
        "  done\n",
        "\n",
        "  # Install kernel and rename it to \"julia\"\n",
        "  echo \"Installing IJulia kernel...\"\n",
        "  julia -e 'using IJulia; IJulia.installkernel(\"julia\", env=Dict(\n",
        "      \"JULIA_NUM_THREADS\"=>\"'\"$JULIA_NUM_THREADS\"'\"))'\n",
        "  KERNEL_DIR=`julia -e \"using IJulia; print(IJulia.kerneldir())\"`\n",
        "  KERNEL_NAME=`ls -d \"$KERNEL_DIR\"/julia*`\n",
        "  mv -f $KERNEL_NAME \"$KERNEL_DIR\"/julia\n",
        "\n",
        "  echo ''\n",
        "  echo \"Successfully installed `julia -v`!\"\n",
        "  echo \"Please reload this page (press Ctrl+R, ⌘+R, or the F5 key) then\"\n",
        "  echo \"jump to the 'Checking the Installation' section.\"\n",
        "fi"
      ],
      "execution_count": null,
      "outputs": [
        {
          "output_type": "stream",
          "name": "stdout",
          "text": [
            "Installing Julia 1.8.2 on the current Colab Runtime...\n",
            "2023-11-06 04:12:38 URL:https://storage.googleapis.com/julialang2/bin/linux/x64/1.8/julia-1.8.2-linux-x86_64.tar.gz [135859273/135859273] -> \"/tmp/julia.tar.gz\" [1]\n",
            "Installing Julia package IJulia...\n",
            "Installing Julia package BenchmarkTools...\n",
            "Installing IJulia kernel...\n",
            "\u001b[36m\u001b[1m[ \u001b[22m\u001b[39m\u001b[36m\u001b[1mInfo: \u001b[22m\u001b[39mInstalling julia kernelspec in /root/.local/share/jupyter/kernels/julia-1.8\n",
            "\n",
            "Successfully installed julia version 1.8.2!\n",
            "Please reload this page (press Ctrl+R, ⌘+R, or the F5 key) then\n",
            "jump to the 'Checking the Installation' section.\n"
          ]
        },
        {
          "output_type": "execute_result",
          "data": {
            "text/plain": []
          },
          "metadata": {},
          "execution_count": 2
        }
      ]
    },
    {
      "cell_type": "markdown",
      "source": [
        "## reload the page !"
      ],
      "metadata": {
        "id": "zUCjFdT7zled"
      }
    },
    {
      "cell_type": "code",
      "metadata": {
        "id": "EEzvvzCl1i0F",
        "colab": {
          "base_uri": "https://localhost:8080/"
        },
        "outputId": "2e32d2fd-803e-4a3c-b01e-1f99a75966e3"
      },
      "source": [
        "versioninfo()"
      ],
      "execution_count": 1,
      "outputs": [
        {
          "output_type": "stream",
          "name": "stdout",
          "text": [
            "Julia Version 1.8.2\n",
            "Commit 36034abf260 (2022-09-29 15:21 UTC)\n",
            "Platform Info:\n",
            "  OS: Linux (x86_64-linux-gnu)\n",
            "  CPU: 2 × AMD EPYC 7B12\n",
            "  WORD_SIZE: 64\n",
            "  LIBM: libopenlibm\n",
            "  LLVM: libLLVM-13.0.1 (ORCJIT, znver2)\n",
            "  Threads: 2 on 2 virtual cores\n",
            "Environment:\n",
            "  LD_LIBRARY_PATH = /usr/local/nvidia/lib:/usr/local/nvidia/lib64\n",
            "  JULIA_NUM_THREADS = 2\n"
          ]
        }
      ]
    },
    {
      "cell_type": "code",
      "source": [
        "] add COBREXA"
      ],
      "metadata": {
        "id": "BR79zLt4eJP2",
        "colab": {
          "base_uri": "https://localhost:8080/"
        },
        "outputId": "b8897ad5-95d3-40d7-a57a-4e2f7fe7ad66",
        "collapsed": true
      },
      "execution_count": 2,
      "outputs": [
        {
          "output_type": "stream",
          "name": "stderr",
          "text": [
            "\u001b[32m\u001b[1m    Updating\u001b[22m\u001b[39m registry at `~/.julia/registries/General.toml`\n",
            "\u001b[32m\u001b[1m   Resolving\u001b[22m\u001b[39m package versions...\n",
            "\u001b[32m\u001b[1m   Installed\u001b[22m\u001b[39m MPICH_jll ──────────── v4.1.2+0\n",
            "\u001b[32m\u001b[1m   Installed\u001b[22m\u001b[39m IrrationalConstants ── v0.2.2\n",
            "\u001b[32m\u001b[1m   Installed\u001b[22m\u001b[39m libaec_jll ─────────── v1.0.6+1\n",
            "\u001b[32m\u001b[1m   Installed\u001b[22m\u001b[39m StableRNGs ─────────── v1.0.0\n",
            "\u001b[32m\u001b[1m   Installed\u001b[22m\u001b[39m XML2_jll ───────────── v2.11.5+0\n",
            "\u001b[32m\u001b[1m   Installed\u001b[22m\u001b[39m DiffResults ────────── v1.1.0\n",
            "\u001b[32m\u001b[1m   Installed\u001b[22m\u001b[39m DiffRules ──────────── v1.15.1\n",
            "\u001b[32m\u001b[1m   Installed\u001b[22m\u001b[39m SBML ───────────────── v1.4.4\n",
            "\u001b[32m\u001b[1m   Installed\u001b[22m\u001b[39m Hwloc_jll ──────────── v2.9.3+0\n",
            "\u001b[32m\u001b[1m   Installed\u001b[22m\u001b[39m OpenSSL_jll ────────── v3.0.12+0\n",
            "\u001b[32m\u001b[1m   Installed\u001b[22m\u001b[39m Bzip2_jll ──────────── v1.0.8+0\n",
            "\u001b[32m\u001b[1m   Installed\u001b[22m\u001b[39m CodecBzip2 ─────────── v0.8.1\n",
            "\u001b[32m\u001b[1m   Installed\u001b[22m\u001b[39m LLVMOpenMP_jll ─────── v15.0.4+0\n",
            "\u001b[32m\u001b[1m   Installed\u001b[22m\u001b[39m IfElse ─────────────── v0.1.1\n",
            "\u001b[32m\u001b[1m   Installed\u001b[22m\u001b[39m MutableArithmetics ─── v1.3.3\n",
            "\u001b[32m\u001b[1m   Installed\u001b[22m\u001b[39m MicrosoftMPI_jll ───── v10.1.4+1\n",
            "\u001b[32m\u001b[1m   Installed\u001b[22m\u001b[39m SpecialFunctions ───── v2.3.1\n",
            "\u001b[32m\u001b[1m   Installed\u001b[22m\u001b[39m OpenMPI_jll ────────── v5.0.0+0\n",
            "\u001b[32m\u001b[1m   Installed\u001b[22m\u001b[39m DistributedData ────── v0.2.0\n",
            "\u001b[32m\u001b[1m   Installed\u001b[22m\u001b[39m Unitful ────────────── v1.17.0\n",
            "\u001b[32m\u001b[1m   Installed\u001b[22m\u001b[39m PikaParser ─────────── v0.5.2\n",
            "\u001b[32m\u001b[1m   Installed\u001b[22m\u001b[39m NaNMath ────────────── v1.0.2\n",
            "\u001b[32m\u001b[1m   Installed\u001b[22m\u001b[39m Libiconv_jll ───────── v1.17.0+0\n",
            "\u001b[32m\u001b[1m   Installed\u001b[22m\u001b[39m StaticArraysCore ───── v1.4.2\n",
            "\u001b[32m\u001b[1m   Installed\u001b[22m\u001b[39m SBML_jll ───────────── v5.20.1+0\n",
            "\u001b[32m\u001b[1m   Installed\u001b[22m\u001b[39m StaticArrays ───────── v1.6.5\n",
            "\u001b[32m\u001b[1m   Installed\u001b[22m\u001b[39m ConstructionBase ───── v1.5.4\n",
            "\u001b[32m\u001b[1m   Installed\u001b[22m\u001b[39m OrderedCollections ─── v1.6.2\n",
            "\u001b[32m\u001b[1m   Installed\u001b[22m\u001b[39m TranscodingStreams ─── v0.10.2\n",
            "\u001b[32m\u001b[1m   Installed\u001b[22m\u001b[39m prrte_jll ──────────── v3.0.2+0\n",
            "\u001b[32m\u001b[1m   Installed\u001b[22m\u001b[39m JuMP ───────────────── v1.16.0\n",
            "\u001b[32m\u001b[1m   Installed\u001b[22m\u001b[39m PMIx_jll ───────────── v4.2.7+0\n",
            "\u001b[32m\u001b[1m   Installed\u001b[22m\u001b[39m SnoopPrecompile ────── v1.0.3\n",
            "\u001b[32m\u001b[1m   Installed\u001b[22m\u001b[39m MAT ────────────────── v0.10.6\n",
            "\u001b[32m\u001b[1m   Installed\u001b[22m\u001b[39m MPIPreferences ─────── v0.1.10\n",
            "\u001b[32m\u001b[1m   Installed\u001b[22m\u001b[39m HDF5 ───────────────── v0.16.16\n",
            "\u001b[32m\u001b[1m   Installed\u001b[22m\u001b[39m ChainRulesCore ─────── v1.18.0\n",
            "\u001b[32m\u001b[1m   Installed\u001b[22m\u001b[39m libevent_jll ───────── v2.1.13+1\n",
            "\u001b[32m\u001b[1m   Installed\u001b[22m\u001b[39m ForwardDiff ────────── v0.10.36\n",
            "\u001b[32m\u001b[1m   Installed\u001b[22m\u001b[39m MPItrampoline_jll ──── v5.3.1+0\n",
            "\u001b[32m\u001b[1m   Installed\u001b[22m\u001b[39m COBREXA ────────────── v1.5.1\n",
            "\u001b[32m\u001b[1m   Installed\u001b[22m\u001b[39m CommonSubexpressions ─ v0.3.0\n",
            "\u001b[32m\u001b[1m   Installed\u001b[22m\u001b[39m LogExpFunctions ────── v0.3.26\n",
            "\u001b[32m\u001b[1m   Installed\u001b[22m\u001b[39m DataStructures ─────── v0.18.15\n",
            "\u001b[32m\u001b[1m   Installed\u001b[22m\u001b[39m Requires ───────────── v1.3.0\n",
            "\u001b[32m\u001b[1m   Installed\u001b[22m\u001b[39m BufferedStreams ────── v1.2.1\n",
            "\u001b[32m\u001b[1m   Installed\u001b[22m\u001b[39m OpenSpecFun_jll ────── v0.5.5+0\n",
            "\u001b[32m\u001b[1m   Installed\u001b[22m\u001b[39m Compat ─────────────── v4.10.0\n",
            "\u001b[32m\u001b[1m   Installed\u001b[22m\u001b[39m MacroTools ─────────── v0.5.11\n",
            "\u001b[32m\u001b[1m   Installed\u001b[22m\u001b[39m CodecZlib ──────────── v0.7.3\n",
            "\u001b[32m\u001b[1m   Installed\u001b[22m\u001b[39m InverseFunctions ───── v0.1.12\n",
            "\u001b[32m\u001b[1m   Installed\u001b[22m\u001b[39m ChangesOfVariables ─── v0.1.8\n",
            "\u001b[32m\u001b[1m   Installed\u001b[22m\u001b[39m HDF5_jll ───────────── v1.14.2+1\n",
            "\u001b[32m\u001b[1m   Installed\u001b[22m\u001b[39m DocStringExtensions ── v0.9.3\n",
            "\u001b[32m\u001b[1m   Installed\u001b[22m\u001b[39m MathOptInterface ───── v1.21.0\n",
            "\u001b[32m\u001b[1m    Updating\u001b[22m\u001b[39m `~/.julia/environments/v1.8/Project.toml`\n",
            " \u001b[90m [babc4406] \u001b[39m\u001b[92m+ COBREXA v1.5.1\u001b[39m\n",
            "\u001b[32m\u001b[1m    Updating\u001b[22m\u001b[39m `~/.julia/environments/v1.8/Manifest.toml`\n",
            " \u001b[90m [e1450e63] \u001b[39m\u001b[92m+ BufferedStreams v1.2.1\u001b[39m\n",
            " \u001b[90m [babc4406] \u001b[39m\u001b[92m+ COBREXA v1.5.1\u001b[39m\n",
            " \u001b[90m [d360d2e6] \u001b[39m\u001b[92m+ ChainRulesCore v1.18.0\u001b[39m\n",
            " \u001b[90m [9e997f8a] \u001b[39m\u001b[92m+ ChangesOfVariables v0.1.8\u001b[39m\n",
            " \u001b[90m [523fee87] \u001b[39m\u001b[92m+ CodecBzip2 v0.8.1\u001b[39m\n",
            " \u001b[90m [944b1d66] \u001b[39m\u001b[92m+ CodecZlib v0.7.3\u001b[39m\n",
            " \u001b[90m [bbf7d656] \u001b[39m\u001b[92m+ CommonSubexpressions v0.3.0\u001b[39m\n",
            " \u001b[90m [34da2185] \u001b[39m\u001b[92m+ Compat v4.10.0\u001b[39m\n",
            " \u001b[90m [187b0558] \u001b[39m\u001b[92m+ ConstructionBase v1.5.4\u001b[39m\n",
            " \u001b[90m [864edb3b] \u001b[39m\u001b[92m+ DataStructures v0.18.15\u001b[39m\n",
            " \u001b[90m [163ba53b] \u001b[39m\u001b[92m+ DiffResults v1.1.0\u001b[39m\n",
            " \u001b[90m [b552c78f] \u001b[39m\u001b[92m+ DiffRules v1.15.1\u001b[39m\n",
            " \u001b[90m [f6a0035f] \u001b[39m\u001b[92m+ DistributedData v0.2.0\u001b[39m\n",
            " \u001b[90m [ffbed154] \u001b[39m\u001b[92m+ DocStringExtensions v0.9.3\u001b[39m\n",
            " \u001b[90m [f6369f11] \u001b[39m\u001b[92m+ ForwardDiff v0.10.36\u001b[39m\n",
            "\u001b[33m⌅\u001b[39m\u001b[90m [f67ccb44] \u001b[39m\u001b[92m+ HDF5 v0.16.16\u001b[39m\n",
            " \u001b[90m [615f187c] \u001b[39m\u001b[92m+ IfElse v0.1.1\u001b[39m\n",
            " \u001b[90m [3587e190] \u001b[39m\u001b[92m+ InverseFunctions v0.1.12\u001b[39m\n",
            " \u001b[90m [92d709cd] \u001b[39m\u001b[92m+ IrrationalConstants v0.2.2\u001b[39m\n",
            " \u001b[90m [4076af6c] \u001b[39m\u001b[92m+ JuMP v1.16.0\u001b[39m\n",
            " \u001b[90m [2ab3a3ac] \u001b[39m\u001b[92m+ LogExpFunctions v0.3.26\u001b[39m\n",
            " \u001b[90m [23992714] \u001b[39m\u001b[92m+ MAT v0.10.6\u001b[39m\n",
            " \u001b[90m [3da0fdf6] \u001b[39m\u001b[92m+ MPIPreferences v0.1.10\u001b[39m\n",
            " \u001b[90m [1914dd2f] \u001b[39m\u001b[92m+ MacroTools v0.5.11\u001b[39m\n",
            " \u001b[90m [b8f27783] \u001b[39m\u001b[92m+ MathOptInterface v1.21.0\u001b[39m\n",
            " \u001b[90m [d8a4904e] \u001b[39m\u001b[92m+ MutableArithmetics v1.3.3\u001b[39m\n",
            " \u001b[90m [77ba4419] \u001b[39m\u001b[92m+ NaNMath v1.0.2\u001b[39m\n",
            " \u001b[90m [bac558e1] \u001b[39m\u001b[92m+ OrderedCollections v1.6.2\u001b[39m\n",
            "\u001b[33m⌅\u001b[39m\u001b[90m [3bbf5609] \u001b[39m\u001b[92m+ PikaParser v0.5.2\u001b[39m\n",
            " \u001b[90m [ae029012] \u001b[39m\u001b[92m+ Requires v1.3.0\u001b[39m\n",
            "\u001b[33m⌅\u001b[39m\u001b[90m [e5567a89] \u001b[39m\u001b[92m+ SBML v1.4.4\u001b[39m\n",
            " \u001b[90m [66db9d55] \u001b[39m\u001b[92m+ SnoopPrecompile v1.0.3\u001b[39m\n",
            " \u001b[90m [276daf66] \u001b[39m\u001b[92m+ SpecialFunctions v2.3.1\u001b[39m\n",
            " \u001b[90m [860ef19b] \u001b[39m\u001b[92m+ StableRNGs v1.0.0\u001b[39m\n",
            " \u001b[90m [90137ffa] \u001b[39m\u001b[92m+ StaticArrays v1.6.5\u001b[39m\n",
            " \u001b[90m [1e83bf80] \u001b[39m\u001b[92m+ StaticArraysCore v1.4.2\u001b[39m\n",
            " \u001b[90m [3bb67fe8] \u001b[39m\u001b[92m+ TranscodingStreams v0.10.2\u001b[39m\n",
            " \u001b[90m [1986cc42] \u001b[39m\u001b[92m+ Unitful v1.17.0\u001b[39m\n",
            " \u001b[90m [6e34b625] \u001b[39m\u001b[92m+ Bzip2_jll v1.0.8+0\u001b[39m\n",
            " \u001b[90m [0234f1f7] \u001b[39m\u001b[92m+ HDF5_jll v1.14.2+1\u001b[39m\n",
            " \u001b[90m [e33a78d0] \u001b[39m\u001b[92m+ Hwloc_jll v2.9.3+0\u001b[39m\n",
            " \u001b[90m [1d63c593] \u001b[39m\u001b[92m+ LLVMOpenMP_jll v15.0.4+0\u001b[39m\n",
            " \u001b[90m [94ce4f54] \u001b[39m\u001b[92m+ Libiconv_jll v1.17.0+0\u001b[39m\n",
            " \u001b[90m [7cb0a576] \u001b[39m\u001b[92m+ MPICH_jll v4.1.2+0\u001b[39m\n",
            " \u001b[90m [f1f71cc9] \u001b[39m\u001b[92m+ MPItrampoline_jll v5.3.1+0\u001b[39m\n",
            " \u001b[90m [9237b28f] \u001b[39m\u001b[92m+ MicrosoftMPI_jll v10.1.4+1\u001b[39m\n",
            " \u001b[90m [fe0851c0] \u001b[39m\u001b[92m+ OpenMPI_jll v5.0.0+0\u001b[39m\n",
            " \u001b[90m [458c3c95] \u001b[39m\u001b[92m+ OpenSSL_jll v3.0.12+0\u001b[39m\n",
            " \u001b[90m [efe28fd5] \u001b[39m\u001b[92m+ OpenSpecFun_jll v0.5.5+0\u001b[39m\n",
            " \u001b[90m [32165bc3] \u001b[39m\u001b[92m+ PMIx_jll v4.2.7+0\u001b[39m\n",
            " \u001b[90m [bb12108a] \u001b[39m\u001b[92m+ SBML_jll v5.20.1+0\u001b[39m\n",
            " \u001b[90m [02c8fc9c] \u001b[39m\u001b[92m+ XML2_jll v2.11.5+0\u001b[39m\n",
            " \u001b[90m [477f73a3] \u001b[39m\u001b[92m+ libaec_jll v1.0.6+1\u001b[39m\n",
            " \u001b[90m [1080aeaf] \u001b[39m\u001b[92m+ libevent_jll v2.1.13+1\u001b[39m\n",
            " \u001b[90m [eb928a42] \u001b[39m\u001b[92m+ prrte_jll v3.0.2+0\u001b[39m\n",
            " \u001b[90m [8ba89e20] \u001b[39m\u001b[92m+ Distributed\u001b[39m\n",
            " \u001b[90m [4af54fe1] \u001b[39m\u001b[92m+ LazyArtifacts\u001b[39m\n",
            " \u001b[90m [05823500] \u001b[39m\u001b[92m+ OpenLibm_jll v0.8.1+0\u001b[39m\n",
            "\u001b[36m\u001b[1m        Info\u001b[22m\u001b[39m Packages marked with \u001b[33m⌅\u001b[39m have new versions available but compatibility constraints restrict them from upgrading. To see why use `status --outdated -m`\n",
            "\u001b[32m\u001b[1m    Building\u001b[22m\u001b[39m HDF5 → `~/.julia/scratchspaces/44cfe95a-1eb2-52ea-b672-e2afdf69b78f/114e20044677badbc631ee6fdc80a67920561a29/build.log`\n",
            "\u001b[32m\u001b[1mPrecompiling\u001b[22m\u001b[39m project...\n",
            "\u001b[32m  ✓ \u001b[39m\u001b[90mRequires\u001b[39m\n",
            "\u001b[32m  ✓ \u001b[39m\u001b[90mOrderedCollections\u001b[39m\n",
            "\u001b[32m  ✓ \u001b[39m\u001b[90mCompat\u001b[39m\n",
            "\u001b[32m  ✓ \u001b[39m\u001b[90mStableRNGs\u001b[39m\n",
            "\u001b[32m  ✓ \u001b[39m\u001b[90mOpenLibm_jll\u001b[39m\n",
            "\u001b[32m  ✓ \u001b[39m\u001b[90mDocStringExtensions\u001b[39m\n",
            "\u001b[32m  ✓ \u001b[39m\u001b[90mIfElse\u001b[39m\n",
            "\u001b[32m  ✓ \u001b[39m\u001b[90mInverseFunctions\u001b[39m\n",
            "\u001b[32m  ✓ \u001b[39m\u001b[90mBufferedStreams\u001b[39m\n",
            "\u001b[32m  ✓ \u001b[39m\u001b[90mConstructionBase\u001b[39m\n",
            "\u001b[32m  ✓ \u001b[39m\u001b[90mIrrationalConstants\u001b[39m\n",
            "\u001b[32m  ✓ \u001b[39m\u001b[90mDistributedData\u001b[39m\n",
            "\u001b[32m  ✓ \u001b[39m\u001b[90mStaticArraysCore\u001b[39m\n",
            "\u001b[32m  ✓ \u001b[39m\u001b[90mTranscodingStreams\u001b[39m\n",
            "\u001b[32m  ✓ \u001b[39m\u001b[90mSnoopPrecompile\u001b[39m\n",
            "\u001b[32m  ✓ \u001b[39m\u001b[90mMacroTools\u001b[39m\n",
            "\u001b[32m  ✓ \u001b[39m\u001b[90mMPIPreferences\u001b[39m\n",
            "\u001b[32m  ✓ \u001b[39m\u001b[90mOpenSSL_jll\u001b[39m\n",
            "\u001b[32m  ✓ \u001b[39m\u001b[90mMicrosoftMPI_jll\u001b[39m\n",
            "\u001b[32m  ✓ \u001b[39m\u001b[90mLibiconv_jll\u001b[39m\n",
            "\u001b[32m  ✓ \u001b[39m\u001b[90mHwloc_jll\u001b[39m\n",
            "\u001b[32m  ✓ \u001b[39m\u001b[90mLLVMOpenMP_jll\u001b[39m\n",
            "\u001b[32m  ✓ \u001b[39m\u001b[90mBzip2_jll\u001b[39m\n",
            "\u001b[32m  ✓ \u001b[39m\u001b[90mOpenSpecFun_jll\u001b[39m\n",
            "\u001b[32m  ✓ \u001b[39m\u001b[90mlibaec_jll\u001b[39m\n",
            "\u001b[32m  ✓ \u001b[39m\u001b[90mChainRulesCore\u001b[39m\n",
            "\u001b[32m  ✓ \u001b[39m\u001b[90mNaNMath\u001b[39m\n",
            "\u001b[32m  ✓ \u001b[39m\u001b[90mMutableArithmetics\u001b[39m\n",
            "\u001b[32m  ✓ \u001b[39m\u001b[90mPikaParser\u001b[39m\n",
            "\u001b[32m  ✓ \u001b[39m\u001b[90mChangesOfVariables\u001b[39m\n",
            "\u001b[32m  ✓ \u001b[39m\u001b[90mDiffResults\u001b[39m\n",
            "\u001b[32m  ✓ \u001b[39m\u001b[90mDataStructures\u001b[39m\n",
            "\u001b[32m  ✓ \u001b[39m\u001b[90mCodecZlib\u001b[39m\n",
            "\u001b[32m  ✓ \u001b[39m\u001b[90mCommonSubexpressions\u001b[39m\n",
            "\u001b[32m  ✓ \u001b[39m\u001b[90mMPItrampoline_jll\u001b[39m\n",
            "\u001b[32m  ✓ \u001b[39m\u001b[90mMPICH_jll\u001b[39m\n",
            "\u001b[32m  ✓ \u001b[39m\u001b[90mlibevent_jll\u001b[39m\n",
            "\u001b[32m  ✓ \u001b[39m\u001b[90mXML2_jll\u001b[39m\n",
            "\u001b[32m  ✓ \u001b[39m\u001b[90mCodecBzip2\u001b[39m\n",
            "\u001b[32m  ✓ \u001b[39m\u001b[90mLogExpFunctions\u001b[39m\n",
            "\u001b[32m  ✓ \u001b[39m\u001b[90mPMIx_jll\u001b[39m\n",
            "\u001b[32m  ✓ \u001b[39m\u001b[90mSBML_jll\u001b[39m\n",
            "\u001b[32m  ✓ \u001b[39m\u001b[90mStaticArrays\u001b[39m\n",
            "\u001b[32m  ✓ \u001b[39m\u001b[90mprrte_jll\u001b[39m\n",
            "\u001b[32m  ✓ \u001b[39m\u001b[90mOpenMPI_jll\u001b[39m\n",
            "\u001b[32m  ✓ \u001b[39m\u001b[90mHDF5_jll\u001b[39m\n",
            "\u001b[32m  ✓ \u001b[39m\u001b[90mSpecialFunctions\u001b[39m\n",
            "\u001b[32m  ✓ \u001b[39m\u001b[90mDiffRules\u001b[39m\n",
            "\u001b[32m  ✓ \u001b[39m\u001b[90mHDF5\u001b[39m\n",
            "\u001b[32m  ✓ \u001b[39m\u001b[90mMAT\u001b[39m\n",
            "\u001b[32m  ✓ \u001b[39m\u001b[90mForwardDiff\u001b[39m\n",
            "\u001b[32m  ✓ \u001b[39m\u001b[90mUnitful\u001b[39m\n",
            "\u001b[32m  ✓ \u001b[39m\u001b[90mSBML\u001b[39m\n",
            "\u001b[32m  ✓ \u001b[39m\u001b[90mMathOptInterface\u001b[39m\n",
            "\u001b[32m  ✓ \u001b[39m\u001b[90mJuMP\u001b[39m\n",
            "\u001b[32m  ✓ \u001b[39mCOBREXA\n",
            "  56 dependencies successfully precompiled in 136 seconds. 20 already precompiled.\n"
          ]
        }
      ]
    },
    {
      "cell_type": "code",
      "source": [
        "] add JuMP"
      ],
      "metadata": {
        "colab": {
          "base_uri": "https://localhost:8080/"
        },
        "collapsed": true,
        "id": "O3A-E7kq0Gcw",
        "outputId": "aef3db68-f263-459d-f8ba-c6bb5547789d"
      },
      "execution_count": 3,
      "outputs": [
        {
          "output_type": "stream",
          "name": "stderr",
          "text": [
            "\u001b[32m\u001b[1m   Resolving\u001b[22m\u001b[39m package versions...\n",
            "\u001b[32m\u001b[1m    Updating\u001b[22m\u001b[39m `~/.julia/environments/v1.8/Project.toml`\n",
            " \u001b[90m [4076af6c] \u001b[39m\u001b[92m+ JuMP v1.16.0\u001b[39m\n",
            "\u001b[32m\u001b[1m  No Changes\u001b[22m\u001b[39m to `~/.julia/environments/v1.8/Manifest.toml`\n"
          ]
        }
      ]
    },
    {
      "cell_type": "code",
      "source": [
        "] add GLPK"
      ],
      "metadata": {
        "colab": {
          "base_uri": "https://localhost:8080/"
        },
        "collapsed": true,
        "id": "ghYmRW7B0P00",
        "outputId": "55b95f44-c2c3-45e2-b80a-9573f3204f4b"
      },
      "execution_count": 4,
      "outputs": [
        {
          "output_type": "stream",
          "name": "stderr",
          "text": [
            "\u001b[32m\u001b[1m   Resolving\u001b[22m\u001b[39m package versions...\n",
            "\u001b[32m\u001b[1m   Installed\u001b[22m\u001b[39m GLPK_jll ─ v5.0.1+0\n",
            "\u001b[32m\u001b[1m   Installed\u001b[22m\u001b[39m GLPK ───── v1.1.3\n",
            "\u001b[32m\u001b[1m    Updating\u001b[22m\u001b[39m `~/.julia/environments/v1.8/Project.toml`\n",
            " \u001b[90m [60bf3e95] \u001b[39m\u001b[92m+ GLPK v1.1.3\u001b[39m\n",
            "\u001b[32m\u001b[1m    Updating\u001b[22m\u001b[39m `~/.julia/environments/v1.8/Manifest.toml`\n",
            " \u001b[90m [60bf3e95] \u001b[39m\u001b[92m+ GLPK v1.1.3\u001b[39m\n",
            " \u001b[90m [e8aa6df9] \u001b[39m\u001b[92m+ GLPK_jll v5.0.1+0\u001b[39m\n",
            " \u001b[90m [781609d7] \u001b[39m\u001b[92m+ GMP_jll v6.2.1+2\u001b[39m\n",
            "\u001b[32m\u001b[1mPrecompiling\u001b[22m\u001b[39m project...\n",
            "\u001b[32m  ✓ \u001b[39m\u001b[90mGMP_jll\u001b[39m\n",
            "\u001b[32m  ✓ \u001b[39m\u001b[90mGLPK_jll\u001b[39m\n",
            "\u001b[32m  ✓ \u001b[39mGLPK\n",
            "  3 dependencies successfully precompiled in 7 seconds. 76 already precompiled.\n"
          ]
        }
      ]
    },
    {
      "cell_type": "markdown",
      "source": [
        "<font face=\"XB Zar\" size=4><div dir=rtl id=\"1\">\n",
        "<font color=\"red\" size=5>**مقدمه**</font>"
      ],
      "metadata": {
        "id": "6VWCrBE9u94Y"
      }
    },
    {
      "cell_type": "markdown",
      "source": [
        "<font face=\"XB Zar\" size=4><div dir=rtl>\n",
        "در این تمرین قصد داریم با یکی از کاربردهای CSP آشنا شویم. فرض کنید شما میخواهید دارویی را تولید کنید که سنتز آن از صفر یا بسیار پرهزینه است یا به حدی پیچیده است که در عمل ممکن نیست اما یک نوع باکتری در طبیعت وجود دارد که توانایی سنتز دارو را به طور طبیعی دارد. شما میتوانید با استخراج واکنش های انجام شده در باکتری و مهندسی آن ها موجب شوید باکتری داروی مطلوب شما را  به میزان زیادی تولید کند. برای مثال انسولین که به طور روزانه توسط بیماران مبتلا به دیابت مصرف میشود با استفاده از باکتری های مهندسی شده تولید میشود.\n",
        " <font face=\"XB Zar\" size=4><div dir=rtl>\n",
        " در مراحل مختلفی از این روند مانند پیش پردازش داده های واکنش ها، میتوان از CSP بهره برد که در این تمرین قصد داریم با آن آشنا شویم."
      ],
      "metadata": {
        "id": "0KUxdWNKvavt"
      }
    },
    {
      "cell_type": "markdown",
      "source": [
        "<font face=\"XB Zar\" size=4><div dir=rtl id=\"1\">\n",
        "<font color=\"red\" size=5>**معرفی المان های مساله**</font>"
      ],
      "metadata": {
        "id": "SZ7a6CPLv6Iu"
      }
    },
    {
      "cell_type": "markdown",
      "source": [
        "<font face=\"XB Zar\" size=4><div dir=rtl>\n",
        "همانطور که گفته شده ما یک باکتری داریم که واکنشهای درون باکتری در آزمایشگاه استخراج شده و داده های آن در اختیار ما قرار گرفته است. این داده ها شامل موارد زیر هستند:\n",
        "<br>\n",
        "<br>\n",
        "n: تعداد واکنش ها\n",
        "<br>\n",
        "m: مجموع تعداد ماده های متمایز در تمام واکنش ها\n",
        "<br>\n",
        "S: یک ماتریس m*n که سطر i,j از آن بیان میدارد در واکنش j ام چند واحد از ماده ی i مصرف یا تولید میشود. مقدار منفی بیانگر مصرف و مقدار مثبت بیانگر تولید است. (درواقع این ماتریس ضرایب استکیومتری واکنش هاست، فراورده ها مثبت و واکنش دهنده ها منفی)\n",
        "<br>\n",
        "ub: یک ماتریس به طول n که upper bound یا کران بالای rate واکنش ها را مشخص میکند\n",
        "<br>\n",
        "lb: یک ماتریس به طول n که lower bound یا کران پایین rate واکنش ها را مشخص میکند\n",
        "<br>\n",
        "Reactions: ماتریس به طول n، نام واکنش ها\n",
        "<br>\n",
        "Metabolites: ماتریس به طول m، نام ماده ها (متابولیت ها)\n"
      ],
      "metadata": {
        "id": "iAA67KaYwF6X"
      }
    },
    {
      "cell_type": "code",
      "source": [
        "using COBREXA\n",
        "using JuMP\n",
        "using GLPK"
      ],
      "metadata": {
        "id": "8OZsXO9SdSut"
      },
      "execution_count": 5,
      "outputs": []
    },
    {
      "cell_type": "code",
      "source": [
        "struct models\n",
        "           S\n",
        "           Metabolites\n",
        "           Reactions\n",
        "           Genes\n",
        "           m\n",
        "           n\n",
        "           lb\n",
        "           ub\n",
        "       end"
      ],
      "metadata": {
        "id": "cauYky-_gMdp"
      },
      "execution_count": 6,
      "outputs": []
    },
    {
      "cell_type": "markdown",
      "source": [
        "<font face=\"XB Zar\" size=4><div dir=rtl>\n",
        "<font color=\"blue\">\n",
        "**سوال:**\n",
        "<br>\n",
        "<font color=\"black\">\n",
        "چگونه میتوان از روی مقادیر lb و ub تشخیص داد واکنش ها برگشت پذیر هستند یا نه؟\n"
      ],
      "metadata": {
        "id": "sFD7nfjIwmAm"
      }
    },
    {
      "cell_type": "markdown",
      "source": [
        "<font face=\"XB Zar\" size=4><div dir=rtl id=\"1\">\n",
        "<font color=\"red\" size=5>**مثال**</font>"
      ],
      "metadata": {
        "id": "YMUDoYG-xJAf"
      }
    },
    {
      "cell_type": "markdown",
      "source": [
        "<font face=\"XB Zar\" size=4><div dir=rtl>\n",
        "ساده ترین حالت CSP قابل حل با این داده ها این هست که با توجه\n",
        "به محدودیت های دنیای واقعی، یک حالت از rate های ممکن برای واکنش را به دست آوریم:\n",
        "ماتریس V را تعریف میکنیم:\n",
        "<br>\n",
        "  یک ماتریس به طول n است که درایه ی iام نظیر rate واکنش iام است.\n",
        "  <div dir=ltr>\n",
        "<br>\n",
        "Find $V$\n",
        "<br>\n",
        "Subject to :\n",
        "<br>\n",
        "$Lb[j]<v[j]<ub[j]$\n",
        "<br>\n",
        "$SV=0$\n"
      ],
      "metadata": {
        "id": "PRdGtInIxJFe"
      }
    },
    {
      "cell_type": "markdown",
      "source": [
        "<font face=\"XB Zar\" size=4><div dir=rtl>\n",
        "<font color=\"blue\">\n",
        "**سوال:**\n",
        "<br>\n",
        "<font color=\"black\">\n",
        "شرط SV=0 بیانگر چیست؟"
      ],
      "metadata": {
        "id": "354U8hy9xJLe"
      }
    },
    {
      "cell_type": "markdown",
      "source": [
        "<font face=\"XB Zar\" size=4><div dir=rtl id=\"1\">\n",
        "<font color=\"red\" size=5>**پیش پردازش داده ها**</font>\n",
        "<br>\n",
        "<font color=\"red\">\n",
        "یافتن و حذف واکنش های بلاک شده"
      ],
      "metadata": {
        "id": "ZM12RRvDxJNr"
      }
    },
    {
      "cell_type": "markdown",
      "source": [
        "<font face=\"XB Zar\" size=4><div dir=rtl>\n",
        "همانطور که میدانیم داده های دریافت شده از آزمایشگاه همیشه داده های تمیزی نیست و نیازبه پیش پردازش دارد. یک نمونه از مشکلات موجود در این داده ها وجود واکنش های \"بلاک شده\" هستند. ممکن است آزمایشگاه واکنش هایی را گزارش کرده باشد که تحت هیچ شرایطی امکان انجام آن وجود نداشته باشد و در هر حالت ممکنی ازمقداردهی rate ها، rate این واکنش همیشه صفر باشد. یافتن و حذف این واکنش ها موجب میشود فضای حالت ما کوچکتر شود و حل مسائل بعدی ساده تر شود."
      ],
      "metadata": {
        "id": "SRhIL44KxJP6"
      }
    },
    {
      "cell_type": "markdown",
      "source": [
        "<font face=\"XB Zar\" size=4><div dir=rtl id=\"1\">\n",
        "<font color=\"red\">\n",
        "تعریف دقیق واکنش های بلاک شده:\n",
        "<br>\n",
        "<font color=\"black\">\n",
        "واکنشی که در هیچ حالتی از فضای حالت تمام rateهای ممکن نتواند rate غیرصفر داشته باشد، در هیچ شرایطی اجرا نمیشود و بلاک شده است. توجه کنید برای واکنش های دوطرفه این شرط باید از هر دوسمت (رفت و برگشت) برقرار باشد تا واکنش بلاک شده تلقی شود.\n"
      ],
      "metadata": {
        "id": "v7lFYA1yxJSR"
      }
    },
    {
      "cell_type": "markdown",
      "source": [
        "<font face=\"XB Zar\" size=4><div dir=rtl id=\"1\">\n",
        "<font color=\"red\" size=5>**حل مساله ی یافتن واکنش های بلاک شده:**</font>\n",
        "<br>\n",
        "<font color=\"black\">\n",
        "در ادامه با استفاده از CSP قصد داریم واکنش های بلاک شده را پیدا کنیم. توضیحی در مورد هرکدام از توابع مطرح شده و ورودی و خروجی آنها در ادامه آمده که باید این توابع را تکمیل کنید. میتوانید ورودی و خروجی توابع را با خواست خود تغییر دهید.\n"
      ],
      "metadata": {
        "id": "gH94g63bxJU_"
      }
    },
    {
      "cell_type": "markdown",
      "source": [
        "<font face=\"XB Zar\" size=4><div dir=rtl id=\"1\">\n",
        "<font color=\"blue\">\n",
        "تابع loadmyModel\n",
        "<br>\n",
        "<font color=\"black\">\n",
        "این تابع مدل واکنش را دانلود میکند و در فرمت یک استراکت برمیگرداند، نیازی به تغییر دادن این تابع نیست."
      ],
      "metadata": {
        "id": "PqAvOeg9-Z3I"
      }
    },
    {
      "cell_type": "code",
      "source": [
        "function loadmyModel(name)\n",
        "  !isfile(name) &&\n",
        "    download(string(\"http://bigg.ucsd.edu/static/models/\",name), name);\n",
        "  model = load_model(StandardModel, name)\n",
        "  m=n_metabolites(model)\n",
        "  n=n_reactions(model)\n",
        "  myModel=models(stoichiometry(model),metabolites(model),reactions(model),genes(model),m,n,bounds(model)[1],bounds(model)[2])\n",
        "  return myModel\n",
        "end"
      ],
      "metadata": {
        "colab": {
          "base_uri": "https://localhost:8080/"
        },
        "id": "1H0tCueEf9Cr",
        "outputId": "add7e6bf-13a6-4248-9dd2-5bcb2df8ce2d"
      },
      "execution_count": 7,
      "outputs": [
        {
          "output_type": "execute_result",
          "data": {
            "text/plain": [
              "loadmyModel (generic function with 1 method)"
            ]
          },
          "metadata": {},
          "execution_count": 7
        }
      ]
    },
    {
      "cell_type": "markdown",
      "source": [
        "<font face=\"XB Zar\" size=4><div dir=rtl id=\"1\">\n",
        "<font color=\"blue\">\n",
        "تابع if_rev\n",
        "<br>\n",
        "<font color=\"black\">\n",
        "این تابع نام (یا یک ویژگی) از واکنش را دریافت میکند و درخروجی مشخص که واکنش برگشت پذیر هست یا نه"
      ],
      "metadata": {
        "id": "vgiSjfD--rdJ"
      }
    },
    {
      "cell_type": "code",
      "source": [
        "function if_rev(reaction)\n",
        "  i = findfirst(x -> x == reaction, myModel.Reactions)\n",
        "  if myModel.lb[i] < 0\n",
        "    return true\n",
        "  else\n",
        "    return false\n",
        "  end\n",
        "end"
      ],
      "metadata": {
        "colab": {
          "base_uri": "https://localhost:8080/"
        },
        "id": "BNwmn8yR1guz",
        "outputId": "33a4637c-e57f-4c50-d578-b751f793ee37"
      },
      "execution_count": 136,
      "outputs": [
        {
          "output_type": "execute_result",
          "data": {
            "text/plain": [
              "if_rev (generic function with 1 method)"
            ]
          },
          "metadata": {},
          "execution_count": 136
        }
      ]
    },
    {
      "cell_type": "markdown",
      "source": [
        "<font face=\"XB Zar\" size=4><div dir=rtl id=\"1\">\n",
        "<font color=\"blue\">\n",
        "تابع homogenize\n",
        "<br>\n",
        "<font color=\"black\">\n",
        "این تابع مدل را دریافت کرده و آن را همگن میکند یعنی ub را برای تمام واکنش ها +M و lb را برای واکنش های برگشت پذیر -M و برای واکنش های برگشت ناپذیر 0 قرار میدهد."
      ],
      "metadata": {
        "id": "8f1Bf_5M-uYv"
      }
    },
    {
      "cell_type": "code",
      "source": [
        "function homogenize(model,M)\n",
        "  for i=1:model.n\n",
        "    model.ub[i] = M\n",
        "\n",
        "    if if_rev(model.Reactions[i])\n",
        "      model.lb[i] = -M\n",
        "    else\n",
        "      model.lb[i] = 0\n",
        "    end\n",
        "  end\n",
        "  return model\n",
        "end\n"
      ],
      "metadata": {
        "colab": {
          "base_uri": "https://localhost:8080/"
        },
        "id": "g4gFDWgb1iwt",
        "outputId": "c5a8b6b5-9b04-4457-ed82-d52b722b2ff2"
      },
      "execution_count": 137,
      "outputs": [
        {
          "output_type": "execute_result",
          "data": {
            "text/plain": [
              "homogenize (generic function with 1 method)"
            ]
          },
          "metadata": {},
          "execution_count": 137
        }
      ]
    },
    {
      "cell_type": "markdown",
      "source": [
        "<font face=\"XB Zar\" size=4><div dir=rtl id=\"1\">\n",
        "<font color=\"blue\">\n",
        "تابع irreversable_solve\n",
        "<br>\n",
        "<font color=\"black\">\n",
        "این تابع برای هر واکنش برگشت ناپذیر با حل یک CSP، مشخص میکند آن واکنش بلاک شده هست یا نه و در خروجی واکنش های برگشت ناپذیر بلاک شده را برمیگرداند"
      ],
      "metadata": {
        "id": "HNK7oYZB-zgU"
      }
    },
    {
      "cell_type": "code",
      "source": [
        "function irreversable_solve(myModel)\n",
        "  for i=1:myModel.n\n",
        "    if !if_rev(myModel.Reactions[i])\n",
        "      model = Model(GLPK.Optimizer)\n",
        "\n",
        "      @variable(model, myModel.lb[j] <= v[j=1:myModel.n] <= myModel.ub[j])\n",
        "      @constraint(model, myModel.S * v .== 0)\n",
        "      @constraint(model, v[i] >= 0)\n",
        "      @objective(model, Max, v[i])\n",
        "      optimize!(model)\n",
        "\n",
        "      if JuMP.termination_status(model) == MOI.OPTIMAL && value(v[i]) == 0\n",
        "        println(myModel.Reactions[i])\n",
        "      end\n",
        "    end\n",
        "  end\n",
        "end"
      ],
      "metadata": {
        "colab": {
          "base_uri": "https://localhost:8080/"
        },
        "id": "I16ZDE4R1kpG",
        "outputId": "ca59f406-3113-455b-f489-12d1097ba0c5"
      },
      "execution_count": 138,
      "outputs": [
        {
          "output_type": "execute_result",
          "data": {
            "text/plain": [
              "irreversable_solve (generic function with 1 method)"
            ]
          },
          "metadata": {},
          "execution_count": 138
        }
      ]
    },
    {
      "cell_type": "markdown",
      "source": [
        "<font face=\"XB Zar\" size=4><div dir=rtl id=\"1\">\n",
        "<font color=\"blue\">\n",
        "تابع reversable_solve\n",
        "<br>\n",
        "<font color=\"black\">\n",
        "این تابع برای هر واکنش برگشت پذیر با حل دو CSP، مشخص میکند آن واکنش بلاک شده هست یا نه و در خروجی واکنش های برگشت پذیر بلاک شده را برمیگرداند"
      ],
      "metadata": {
        "id": "gf5vJU3D-2nL"
      }
    },
    {
      "cell_type": "code",
      "source": [
        "function reversable_solve(myModel)\n",
        "  for i=1:myModel.n\n",
        "    if if_rev(myModel.Reactions[i])\n",
        "      forward_model = Model(GLPK.Optimizer)\n",
        "\n",
        "      @variable(forward_model, myModel.lb[j] <= v_forward[j=1:myModel.n] <= myModel.ub[j]) #unary\n",
        "      @constraint(forward_model, myModel.S * v_forward .== 0)\n",
        "      @constraint(forward_model, v_forward[i] >= 0)\n",
        "      @objective(forward_model, Max, v_forward[i])\n",
        "      optimize!(forward_model)\n",
        "\n",
        "      backward_model = Model(GLPK.Optimizer)\n",
        "\n",
        "      @variable(backward_model, myModel.lb[j] <= v_backward[j=1:myModel.n] <= myModel.ub[j]) #unary\n",
        "      @constraint(backward_model, myModel.S * v_backward .== 0)\n",
        "      @constraint(backward_model, v_backward[i] <= 0)\n",
        "      @objective(backward_model, Min, v_backward[i])\n",
        "      optimize!(backward_model)\n",
        "\n",
        "      if JuMP.termination_status(forward_model) == MOI.OPTIMAL && value(v_forward[i]) == 0 &&\n",
        "         JuMP.termination_status(backward_model) == MOI.OPTIMAL && value(v_backward[i]) == 0\n",
        "         println(myModel.Reactions[i])\n",
        "      end\n",
        "    end\n",
        "  end\n",
        "end"
      ],
      "metadata": {
        "colab": {
          "base_uri": "https://localhost:8080/"
        },
        "id": "82Y9V6sp1pLI",
        "outputId": "806cad30-12fc-42bb-dbf9-2b43922096b2"
      },
      "execution_count": 139,
      "outputs": [
        {
          "output_type": "execute_result",
          "data": {
            "text/plain": [
              "reversable_solve (generic function with 1 method)"
            ]
          },
          "metadata": {},
          "execution_count": 139
        }
      ]
    },
    {
      "cell_type": "code",
      "source": [
        "name=\"e_coli_core.xml\"\n",
        "print(\">\",name,\"\\n\")\n",
        "myModel=loadmyModel(name)\n",
        "M=1000000"
      ],
      "metadata": {
        "colab": {
          "base_uri": "https://localhost:8080/"
        },
        "collapsed": true,
        "id": "VdX68OUY1sax",
        "outputId": "d3871ef8-e7f4-4d8c-ee0a-2cd3b3859e11"
      },
      "execution_count": 140,
      "outputs": [
        {
          "output_type": "stream",
          "name": "stdout",
          "text": [
            ">e_coli_core.xml\n"
          ]
        },
        {
          "output_type": "execute_result",
          "data": {
            "text/plain": [
              "1000000"
            ]
          },
          "metadata": {},
          "execution_count": 140
        }
      ]
    },
    {
      "cell_type": "code",
      "source": [
        "#if_rev(\"a reaction name\")"
      ],
      "metadata": {
        "id": "JWnj3kpT9XtW"
      },
      "execution_count": null,
      "outputs": []
    },
    {
      "cell_type": "code",
      "source": [
        "myModel=homogenize(myModel,M)\n",
        "print(\"#irreversable blocked reactios:\\n\")\n",
        "irreversable_solve(myModel)\n",
        "print(\"#reversable blocked reactios:\\n\")\n",
        "reversable_solve(myModel)"
      ],
      "metadata": {
        "id": "6kNe6INg2Rcn",
        "colab": {
          "base_uri": "https://localhost:8080/"
        },
        "outputId": "3fa42e11-d912-474e-bf9f-d44b178f0cdb"
      },
      "execution_count": 141,
      "outputs": [
        {
          "output_type": "stream",
          "name": "stdout",
          "text": [
            "#irreversable blocked reactios:\n",
            "R_EX_fru_e\n",
            "R_EX_fum_e\n",
            "R_EX_gln__L_e\n",
            "R_EX_mal__L_e\n",
            "R_FRUpts2\n",
            "R_FUMt2_2\n",
            "R_GLNabc\n",
            "R_MALt2_2\n",
            "#reversable blocked reactios:\n"
          ]
        }
      ]
    },
    {
      "cell_type": "markdown",
      "metadata": {
        "id": "2UMidUQB03vJ"
      },
      "source": [
        "<img src=\"https://raw.githubusercontent.com/JuliaLang/julia-logo-graphics/master/images/julia-logo-mask.png\" height=\"100\" />"
      ]
    },
    {
      "cell_type": "markdown",
      "metadata": {
        "id": "8RC1QNNqk6h1"
      },
      "source": [
        "# Need Help?\n",
        "\n",
        "* Learning: https://julialang.org/learning/\n",
        "* Documentation: https://docs.julialang.org/\n",
        "* Questions & Discussions:\n",
        "  * https://discourse.julialang.org/\n",
        "  * http://julialang.slack.com/\n",
        "  * https://stackoverflow.com/questions/tagged/julia\n",
        "\n",
        "If you ever ask for help or file an issue about Julia, you should generally provide the output of `versioninfo()`."
      ]
    }
  ]
}